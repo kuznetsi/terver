{
 "cells": [
  {
   "cell_type": "markdown",
   "metadata": {},
   "source": [
    "### Урок 1. Случайные события. Условная вероятность. Формула Байеса. Независимые испытания"
   ]
  },
  {
   "cell_type": "markdown",
   "metadata": {},
   "source": [
    "#### Из колоды в 52 карты извлекаются случайным образом 4 карты. \n",
    "1. A - Найти вероятность того, что все карты – крести. \n",
    "2. B - Найти вероятность, что среди 4-х карт окажется ХОТЯ бы один туз."
   ]
  },
  {
   "cell_type": "code",
   "execution_count": 1,
   "metadata": {},
   "outputs": [],
   "source": [
    "import numpy as np\n",
    "from math import factorial"
   ]
  },
  {
   "cell_type": "markdown",
   "metadata": {},
   "source": [
    "А - решение"
   ]
  },
  {
   "cell_type": "code",
   "execution_count": 2,
   "metadata": {},
   "outputs": [],
   "source": [
    "n_kresti = 13\n",
    "n_tuz = 4\n",
    "n_koloda = 52"
   ]
  },
  {
   "cell_type": "code",
   "execution_count": 3,
   "metadata": {},
   "outputs": [],
   "source": [
    "def combinations(n, k):\n",
    "    return int(factorial(n) / (factorial(k) * factorial(n - k)))"
   ]
  },
  {
   "cell_type": "code",
   "execution_count": 4,
   "metadata": {},
   "outputs": [
    {
     "data": {
      "text/plain": [
       "715"
      ]
     },
     "execution_count": 4,
     "metadata": {},
     "output_type": "execute_result"
    }
   ],
   "source": [
    "combinations(n_kresti,n_tuz)"
   ]
  },
  {
   "cell_type": "code",
   "execution_count": 5,
   "metadata": {},
   "outputs": [
    {
     "data": {
      "text/plain": [
       "635013559600"
      ]
     },
     "execution_count": 5,
     "metadata": {},
     "output_type": "execute_result"
    }
   ],
   "source": [
    "combinations(n_koloda,n_kresti)"
   ]
  },
  {
   "cell_type": "code",
   "execution_count": 6,
   "metadata": {},
   "outputs": [],
   "source": [
    "PA = float(combinations(n_kresti,n_tuz)/combinations(n_koloda,n_kresti))"
   ]
  },
  {
   "cell_type": "code",
   "execution_count": 7,
   "metadata": {
    "scrolled": true
   },
   "outputs": [
    {
     "name": "stdout",
     "output_type": "stream",
     "text": [
      "Вероятность того, что все карты - крести: 1.1259602085511121e-09\n"
     ]
    }
   ],
   "source": [
    "print('Вероятность того, что все карты - крести: '+ str(PA))"
   ]
  },
  {
   "cell_type": "code",
   "execution_count": 8,
   "metadata": {},
   "outputs": [],
   "source": [
    "AP = combinations(n_koloda,n_kresti)/combinations(n_kresti,n_tuz)"
   ]
  },
  {
   "cell_type": "code",
   "execution_count": 9,
   "metadata": {},
   "outputs": [
    {
     "name": "stdout",
     "output_type": "stream",
     "text": [
      "Таким образом, только в одном из 888130853 испытаний (в среднем) все 4 извлеченные карты имеют заданную масть.\n"
     ]
    }
   ],
   "source": [
    "print('Таким образом, только в одном из '+str(round(AP))+' испытаний (в среднем) все 4 извлеченные карты имеют заданную масть.')"
   ]
  },
  {
   "cell_type": "markdown",
   "metadata": {},
   "source": [
    "B - решение"
   ]
  },
  {
   "cell_type": "code",
   "execution_count": 10,
   "metadata": {},
   "outputs": [],
   "source": [
    "n = 4\n",
    "n_tuz = 4\n",
    "k_tuz = 1\n",
    "n_koloda = 52"
   ]
  },
  {
   "cell_type": "code",
   "execution_count": 11,
   "metadata": {},
   "outputs": [],
   "source": [
    "PA = float((combinations(n_tuz,k_tuz)*combinations(n_koloda-n_tuz,n-k_tuz))/combinations(n_koloda,n_tuz))"
   ]
  },
  {
   "cell_type": "code",
   "execution_count": 12,
   "metadata": {},
   "outputs": [
    {
     "name": "stdout",
     "output_type": "stream",
     "text": [
      "Вероятность того, что все карты - крести: 0.25555083571890297\n"
     ]
    }
   ],
   "source": [
    "print('Вероятность того, что все карты - крести: '+ str(PA))"
   ]
  },
  {
   "cell_type": "code",
   "execution_count": 13,
   "metadata": {},
   "outputs": [],
   "source": [
    "AP = combinations(n_koloda,n_tuz)/(combinations(n_tuz,k_tuz)*combinations(n_koloda-n_tuz,n-k_tuz))"
   ]
  },
  {
   "cell_type": "code",
   "execution_count": 14,
   "metadata": {},
   "outputs": [
    {
     "name": "stdout",
     "output_type": "stream",
     "text": [
      "Таким образом, только в одном из 4 испытаний (в среднем) окажется ХОТЯ бы один туз.\n"
     ]
    }
   ],
   "source": [
    "print('Таким образом, только в одном из '+str(round(AP))+' испытаний (в среднем) окажется ХОТЯ бы один туз.')"
   ]
  },
  {
   "cell_type": "markdown",
   "metadata": {},
   "source": [
    "#### На входной двери подъезда установлен кодовый замок, содержащий десять кнопок с цифрами от 0 до 9. Код содержит три цифры, которые нужно нажать одновременно. Какова вероятность того, что человек, не знающий код, откроет дверь с первой попытки?"
   ]
  },
  {
   "cell_type": "code",
   "execution_count": 15,
   "metadata": {},
   "outputs": [],
   "source": [
    "n = 10\n",
    "k = 3"
   ]
  },
  {
   "cell_type": "code",
   "execution_count": 16,
   "metadata": {},
   "outputs": [],
   "source": [
    "C = combinations(n,k)"
   ]
  },
  {
   "cell_type": "code",
   "execution_count": 17,
   "metadata": {},
   "outputs": [],
   "source": [
    "P = 1/C"
   ]
  },
  {
   "cell_type": "code",
   "execution_count": 18,
   "metadata": {},
   "outputs": [
    {
     "name": "stdout",
     "output_type": "stream",
     "text": [
      "Вероятность того, что человек, не знающий код, откроет дверь с первой попытки: 0.008333333333333333\n"
     ]
    }
   ],
   "source": [
    "print('Вероятность того, что человек, не знающий код, откроет дверь с первой попытки: '+ str(P))"
   ]
  },
  {
   "cell_type": "code",
   "execution_count": 19,
   "metadata": {},
   "outputs": [],
   "source": [
    "AP = C/1"
   ]
  },
  {
   "cell_type": "code",
   "execution_count": 20,
   "metadata": {},
   "outputs": [
    {
     "name": "stdout",
     "output_type": "stream",
     "text": [
      "Таким образом, только в одном из 120 испытаний (в среднем) человек, не знающий код, откроет дверь с первой попытки.\n"
     ]
    }
   ],
   "source": [
    "print('Таким образом, только в одном из '+str(round(AP))+' испытаний (в среднем) человек, не знающий код, откроет дверь с первой попытки.')"
   ]
  },
  {
   "cell_type": "markdown",
   "metadata": {},
   "source": [
    "#### В ящике имеется 15 деталей, из которых 9 окрашены. Рабочий случайным образом извлекает 3 детали. Какова вероятность того, что все извлеченные детали окрашены?"
   ]
  },
  {
   "cell_type": "code",
   "execution_count": 23,
   "metadata": {},
   "outputs": [],
   "source": [
    "PA = float(combinations(9,3)/combinations(15,3))"
   ]
  },
  {
   "cell_type": "code",
   "execution_count": 25,
   "metadata": {},
   "outputs": [
    {
     "name": "stdout",
     "output_type": "stream",
     "text": [
      "Вероятность того, что все вероятность того, что все извлеченные детали окрашены: 0.18461538461538463\n"
     ]
    }
   ],
   "source": [
    "print('Вероятность того, что все вероятность того, что все извлеченные детали окрашены: '+ str(PA))"
   ]
  },
  {
   "cell_type": "code",
   "execution_count": 26,
   "metadata": {},
   "outputs": [],
   "source": [
    "AP = combinations(15,3)/combinations(9,3)"
   ]
  },
  {
   "cell_type": "code",
   "execution_count": 28,
   "metadata": {},
   "outputs": [
    {
     "name": "stdout",
     "output_type": "stream",
     "text": [
      "Таким образом, только в одном из 5 испытаний (в среднем) извлеченные детали окажутся окрашеными.\n"
     ]
    }
   ],
   "source": [
    "print('Таким образом, только в одном из '+str(round(AP))+' испытаний (в среднем) извлеченные детали окажутся окрашеными.')"
   ]
  },
  {
   "cell_type": "markdown",
   "metadata": {},
   "source": [
    "#### В лотерее 100 билетов. Из них 2 выигрышных. Какова вероятность того, что 2 приобретенных билета окажутся выигрышными?"
   ]
  },
  {
   "cell_type": "code",
   "execution_count": 29,
   "metadata": {},
   "outputs": [],
   "source": [
    "PA = float(1 - (combinations(98,2)/combinations(100,2)))"
   ]
  },
  {
   "cell_type": "code",
   "execution_count": 30,
   "metadata": {},
   "outputs": [
    {
     "name": "stdout",
     "output_type": "stream",
     "text": [
      "Вероятность того, что 2 приобретенных билета окажутся выигрышными: 0.03979797979797983\n"
     ]
    }
   ],
   "source": [
    "print('Вероятность того, что 2 приобретенных билета окажутся выигрышными: '+ str(PA))"
   ]
  },
  {
   "cell_type": "code",
   "execution_count": null,
   "metadata": {},
   "outputs": [],
   "source": []
  }
 ],
 "metadata": {
  "kernelspec": {
   "display_name": "Python 3",
   "language": "python",
   "name": "python3"
  },
  "language_info": {
   "codemirror_mode": {
    "name": "ipython",
    "version": 3
   },
   "file_extension": ".py",
   "mimetype": "text/x-python",
   "name": "python",
   "nbconvert_exporter": "python",
   "pygments_lexer": "ipython3",
   "version": "3.7.3"
  }
 },
 "nbformat": 4,
 "nbformat_minor": 2
}
